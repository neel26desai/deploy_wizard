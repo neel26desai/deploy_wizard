{
 "cells": [
  {
   "cell_type": "code",
   "execution_count": 1,
   "metadata": {},
   "outputs": [],
   "source": [
    "%load_ext autoreload\n",
    "%autoreload 2"
   ]
  },
  {
   "cell_type": "code",
   "execution_count": 1,
   "metadata": {},
   "outputs": [],
   "source": [
    "# Import necessary modules from LangChain\n",
    "from langchain.chat_models import ChatOpenAI\n",
    "from langchain.schema import HumanMessage\n",
    "import os"
   ]
  },
  {
   "cell_type": "code",
   "execution_count": 9,
   "metadata": {},
   "outputs": [],
   "source": [
    "FILE_WITH_SECRET = '/Users/neel/Documents/Keys/OpenAIDeployWizardKey.txt'\n",
    "MODEL_NAME = 'gpt-4o-mini'"
   ]
  },
  {
   "cell_type": "code",
   "execution_count": null,
   "metadata": {},
   "outputs": [
    {
     "name": "stdout",
     "output_type": "stream",
     "text": [
      "Hello! How can I assist you today?\n",
      "Exiting chat. Goodbye!\n"
     ]
    }
   ],
   "source": [
    "# Function to read OpenAI API key from a file\n",
    "def read_openai_key(file_path):\n",
    "    try:\n",
    "        with open(file_path, 'r') as file:\n",
    "            return file.read().strip()\n",
    "    except Exception as e:\n",
    "        return str(e)\n",
    "\n",
    "# Set your OpenAI API key from a file\n",
    "api_key = read_openai_key(FILE_WITH_SECRET)\n",
    "os.environ[\"OPENAI_API_KEY\"] = api_key\n",
    "\n",
    "# Create a ChatOpenAI instance\n",
    "chat = ChatOpenAI(model=MODEL_NAME, temperature=0)\n",
    "\n",
    "\n",
    "# Initialize an empty list to store the chat history\n",
    "messages = []\n",
    "# File writer instance\n",
    "file_writer = FileWriterTool()\n",
    "\n",
    "# Start an infinite loop for continuous conversation\n",
    "while True:\n",
    "    # Get user input\n",
    "    message = input(\"> \")\n",
    "    \n",
    "    # Check if the user wants to exit the chat\n",
    "    if message.lower() == \"exit\":\n",
    "        print(\"Exiting chat. Goodbye!\")\n",
    "        break\n",
    "    \n",
    "    # Create a HumanMessage object with the user input\n",
    "    usr_msg = HumanMessage(content=message)\n",
    "    \n",
    "    # Append the user message to the messages list\n",
    "    messages.append(usr_msg)\n",
    "    \n",
    "    # Generate a response from the AI using the chat history\n",
    "    ai_msg = chat(messages)\n",
    "    \n",
    "    # Print the AI's response\n",
    "    print(ai_msg.content)\n",
    "    \n",
    "    # Append the AI's response to the messages list\n",
    "    messages.append(ai_msg)"
   ]
  },
  {
   "cell_type": "code",
   "execution_count": null,
   "metadata": {},
   "outputs": [],
   "source": []
  }
 ],
 "metadata": {
  "kernelspec": {
   "display_name": "mlops",
   "language": "python",
   "name": "python3"
  },
  "language_info": {
   "codemirror_mode": {
    "name": "ipython",
    "version": 3
   },
   "file_extension": ".py",
   "mimetype": "text/x-python",
   "name": "python",
   "nbconvert_exporter": "python",
   "pygments_lexer": "ipython3",
   "version": "3.10.12"
  }
 },
 "nbformat": 4,
 "nbformat_minor": 2
}
